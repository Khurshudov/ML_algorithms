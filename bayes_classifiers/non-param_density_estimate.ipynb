{
 "cells": [
  {
   "cell_type": "code",
   "execution_count": 4,
   "metadata": {},
   "outputs": [],
   "source": [
    "import numpy as np\n",
    "import matplotlib.pyplot as plt"
   ]
  },
  {
   "cell_type": "code",
   "execution_count": 17,
   "metadata": {},
   "outputs": [],
   "source": [
    "X = np.array([])\n",
    "for i in range(2000):\n",
    "    X = np.append(X, np.random.normal())"
   ]
  },
  {
   "cell_type": "code",
   "execution_count": 20,
   "metadata": {},
   "outputs": [
    {
     "data": {
      "text/plain": [
       "(array([  2.,   5.,  10.,  15.,  33.,  63., 117., 165., 229., 250., 275.,\n",
       "        247., 196., 174., 106.,  59.,  28.,  13.,   8.,   5.]),\n",
       " array([-3.59420352, -3.24466823, -2.89513295, -2.54559767, -2.19606238,\n",
       "        -1.8465271 , -1.49699182, -1.14745653, -0.79792125, -0.44838597,\n",
       "        -0.09885068,  0.2506846 ,  0.60021989,  0.94975517,  1.29929045,\n",
       "         1.64882574,  1.99836102,  2.3478963 ,  2.69743159,  3.04696687,\n",
       "         3.39650215]),\n",
       " <a list of 20 Patch objects>)"
      ]
     },
     "execution_count": 20,
     "metadata": {},
     "output_type": "execute_result"
    },
    {
     "data": {
      "image/png": "[encoded data removed]",
      "text/plain": [
       "<Figure size 432x288 with 1 Axes>"
      ]
     },
     "metadata": {
      "needs_background": "light"
     },
     "output_type": "display_data"
    }
   ],
   "source": [
    "plt.hist(X, 20)"
   ]
  },
  {
   "cell_type": "code",
   "execution_count": null,
   "metadata": {},
   "outputs": [],
   "source": []
  }
 ],
 "metadata": {
  "kernelspec": {
   "display_name": "Python 3",
   "language": "python",
   "name": "python3"
  },
  "language_info": {
   "codemirror_mode": {
    "name": "ipython",
    "version": 3
   },
   "file_extension": ".py",
   "mimetype": "text/x-python",
   "name": "python",
   "nbconvert_exporter": "python",
   "pygments_lexer": "ipython3",
   "version": "3.7.0"
  }
 },
 "nbformat": 4,
 "nbformat_minor": 2
}
