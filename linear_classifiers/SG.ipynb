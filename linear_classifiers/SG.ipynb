{
 "cells": [
  {
   "cell_type": "code",
   "execution_count": 3,
   "metadata": {},
   "outputs": [],
   "source": [
    "import random as rd\n",
    "import numpy as np\n",
    "import matplotlib.pyplot as plt"
   ]
  },
  {
   "cell_type": "code",
   "execution_count": 4,
   "metadata": {},
   "outputs": [],
   "source": [
    "X = []\n",
    "y = []\n",
    "for i in range(50):\n",
    "    X.append([rd.random() * 4, rd.random() * 10])\n",
    "    y.append(-1)\n",
    "    \n",
    "for i in range(50):\n",
    "    X.append([6 + rd.random() * 4, rd.random() * 10])\n",
    "    y.append(1)\n",
    "    \n",
    "X = np.array(X)\n",
    "y = np.array(y)"
   ]
  },
  {
   "cell_type": "code",
   "execution_count": 114,
   "metadata": {},
   "outputs": [],
   "source": [
    "def L_Habb(w, x, y):\n",
    "    return max(0, -np.dot(w, x) * y)\n",
    "\n",
    "def Ld_Habb(w, x, y):\n",
    "    if np.dot(w, x) * y < 0:\n",
    "        return -1\n",
    "    return 0\n",
    "\n",
    "def find_x(w, y):\n",
    "    return (w[2] - w[1] * y) / w[0]\n",
    "\n",
    "def train(X, y, eta=0.02, lambd = 0.9):\n",
    "    X = np.append(X, np.array([-1] * len(X)).reshape(len(X), 1), axis=1)\n",
    "    w = np.array([0.1] * len(X[0]))\n",
    "    Q = 1 / len(X) * sum([ L_Habb(w, X[i], y[i]) for i in range(len(X)) ])\n",
    "    \n",
    "    kf = 1\n",
    "    \n",
    "    eta = 1\n",
    "    \n",
    "    n_iter = 0\n",
    "    \n",
    "    Q_arr = []\n",
    "    \n",
    "    while (n_iter < 10000) and kf > 1e-5:\n",
    "        eta = max(eta - 1 / (n_iter + 1000), 0.03)\n",
    "        Q_prev = Q\n",
    "        \n",
    "        Q_arr.append([Q, Q_prev, kf])\n",
    "        \n",
    "        n_iter += 1\n",
    "        i = rd.randint(0,99)\n",
    "        x = X[i]\n",
    "        eps = L_Habb(w, x, y[i])\n",
    "        w = w - eta * Ld_Habb(w, x, y[i]) * x * y[i]\n",
    "        Q = (1-lambd) * Q + lambd * eps\n",
    "        kf = (abs(Q_prev - Q) / abs(max(Q_prev, Q)))\n",
    "    print('n_iter:', n_iter)\n",
    "    print(Q_arr[-10:])\n",
    "    return w"
   ]
  },
  {
   "cell_type": "code",
   "execution_count": 115,
   "metadata": {},
   "outputs": [
    {
     "name": "stdout",
     "output_type": "stream",
     "text": [
      "n_iter: 1543\n",
      "[[2.84051393e-316, 2.84051393e-316, 0.9], [2.840514e-317, 2.840514e-317, 0.900000003478706], [2.84051e-318, 2.84051e-318, 0.9000000695741229], [2.84053e-319, 2.84053e-319, 0.8999993042582871], [2.8404e-320, 2.8404e-320, 0.9000052180265423], [2.84e-321, 2.84e-321, 0.8999826056705514], [2.8e-322, 2.8e-322, 0.9008695652173913], [3e-323, 3e-323, 0.8947368421052632], [5e-324, 5e-324, 0.8333333333333334], [0.0, 0.0, 1.0]]\n"
     ]
    },
    {
     "name": "stderr",
     "output_type": "stream",
     "text": [
      "/Library/Frameworks/Python.framework/Versions/3.7/lib/python3.7/site-packages/ipykernel_launcher.py:37: RuntimeWarning: invalid value encountered in double_scalars\n"
     ]
    },
    {
     "data": {
      "text/plain": [
       "[<matplotlib.lines.Line2D at 0x114ca2390>]"
      ]
     },
     "execution_count": 115,
     "metadata": {},
     "output_type": "execute_result"
    },
    {
     "data": {
      "image/png": "[encoded data removed]",
      "text/plain": [
       "<Figure size 432x288 with 1 Axes>"
      ]
     },
     "metadata": {
      "needs_background": "light"
     },
     "output_type": "display_data"
    }
   ],
   "source": [
    "w = train(X, y)\n",
    "\n",
    "plt.scatter(X[:,0], X[:,1], c=y)\n",
    "plt.plot([find_x(w, 0), find_x(w, 10)], [0, 10])"
   ]
  },
  {
   "cell_type": "code",
   "execution_count": null,
   "metadata": {},
   "outputs": [],
   "source": []
  },
  {
   "cell_type": "code",
   "execution_count": null,
   "metadata": {},
   "outputs": [],
   "source": []
  },
  {
   "cell_type": "code",
   "execution_count": null,
   "metadata": {},
   "outputs": [],
   "source": []
  }
 ],
 "metadata": {
  "kernelspec": {
   "display_name": "Python 3",
   "language": "python",
   "name": "python3"
  },
  "language_info": {
   "codemirror_mode": {
    "name": "ipython",
    "version": 3
   },
   "file_extension": ".py",
   "mimetype": "text/x-python",
   "name": "python",
   "nbconvert_exporter": "python",
   "pygments_lexer": "ipython3",
   "version": "3.7.0"
  }
 },
 "nbformat": 4,
 "nbformat_minor": 2
}
