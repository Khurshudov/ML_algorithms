{
 "cells": [
  {
   "cell_type": "code",
   "execution_count": 46,
   "metadata": {},
   "outputs": [],
   "source": [
    "from sklearn.datasets import load_iris\n",
    "import matplotlib.pyplot as plt\n",
    "import numpy as np\n",
    "import operator"
   ]
  },
  {
   "cell_type": "code",
   "execution_count": 47,
   "metadata": {},
   "outputs": [],
   "source": [
    "data = load_iris()\n",
    "X = data.data[:,2:]\n",
    "y = data.target"
   ]
  },
  {
   "cell_type": "code",
   "execution_count": 111,
   "metadata": {},
   "outputs": [],
   "source": [
    "def euc(x, y):\n",
    "    x = np.array(x)\n",
    "    y = np.array(y)\n",
    "    return sum((x-y) ** 2)\n",
    "\n",
    "def nearest_index(x, X):\n",
    "    min_euc = euc(x, X[0])\n",
    "    min_idx = 0\n",
    "    for idx, elem in enumerate(X):\n",
    "        if min_euc > euc(x, elem):\n",
    "            min_euc = euc(x, elem)\n",
    "            min_idx = idx\n",
    "    return min_idx\n",
    "\n",
    "def predict(x, X, y, k, weight = lambda x: 1):\n",
    "    sorted_dist = sorted(np.append(X, y, axis=1), key=lambda el: euc(x, el[:2]))\n",
    "    \n",
    "    res_dict = {}\n",
    "    for elem in np.unique(y):\n",
    "        res_dict[elem] = 0\n",
    "    \n",
    "    for idx, el in enumerate(sorted_dist[:k+1]):\n",
    "        res_dict[el[2]] += weight(idx)\n",
    "        \n",
    "    return int(max(res_dict.items(), key=operator.itemgetter(1))[0])\n",
    "\n",
    "def color(col):\n",
    "    if str(int(col)) == '0':\n",
    "        return 'red'\n",
    "    elif str(int(col)) == '1':\n",
    "        return 'green'\n",
    "    return 'blue'"
   ]
  },
  {
   "cell_type": "markdown",
   "metadata": {},
   "source": [
    "## Classification card"
   ]
  },
  {
   "cell_type": "code",
   "execution_count": 112,
   "metadata": {},
   "outputs": [
    {
     "name": "stdout",
     "output_type": "stream",
     "text": [
      "CPU times: user 3.29 s, sys: 34.2 ms, total: 3.33 s\n",
      "Wall time: 3.21 s\n"
     ]
    },
    {
     "data": {
      "image/png": "[encoded data removed]",
      "text/plain": [
       "<Figure size 576x432 with 1 Axes>"
      ]
     },
     "metadata": {
      "needs_background": "light"
     },
     "output_type": "display_data"
    }
   ],
   "source": [
    "%%time\n",
    "\n",
    "plt.figure(1, figsize=(8, 6))\n",
    "plt.scatter(X[:,0], X[:,1], c=list(map(color, y)))\n",
    "\n",
    "step = 0.1\n",
    "\n",
    "for i in np.arange(1, 7, step=step):\n",
    "    for j in np.arange(0, 2.5, step=step):\n",
    "        col = str(predict([i,j], X, y.reshape(len(X),1), 5))\n",
    "        plt.plot(i, j, c=color(col), marker='o', fillstyle='none')"
   ]
  },
  {
   "cell_type": "markdown",
   "metadata": {},
   "source": [
    "## LOO"
   ]
  },
  {
   "cell_type": "code",
   "execution_count": 120,
   "metadata": {},
   "outputs": [
    {
     "data": {
      "text/plain": [
       "[<matplotlib.lines.Line2D at 0x114c67cf8>]"
      ]
     },
     "execution_count": 120,
     "metadata": {},
     "output_type": "execute_result"
    },
    {
     "data": {
      "image/png": "[encoded data removed]",
      "text/plain": [
       "<Figure size 432x288 with 1 Axes>"
      ]
     },
     "metadata": {
      "needs_background": "light"
     },
     "output_type": "display_data"
    }
   ],
   "source": [
    "n = len(X)\n",
    "# n = 30\n",
    "k_range = range(1, n)\n",
    "errors = [0] * n\n",
    "\n",
    "q = 1\n",
    "\n",
    "for k in k_range:\n",
    "    for idx, elem in enumerate(X):\n",
    "        pred = predict(elem,\n",
    "                       np.delete(X, idx, 0),\n",
    "                       np.delete(y.reshape(150, 1), idx, 0),\n",
    "                       k, weight = lambda i: q ** i)\n",
    "        if pred != y[idx]:\n",
    "            errors[k] += 1\n",
    "\n",
    "plt.plot(k_range, errors[1:])"
   ]
  },
  {
   "cell_type": "code",
   "execution_count": null,
   "metadata": {},
   "outputs": [],
   "source": []
  }
 ],
 "metadata": {
  "kernelspec": {
   "display_name": "Python 3",
   "language": "python",
   "name": "python3"
  },
  "language_info": {
   "codemirror_mode": {
    "name": "ipython",
    "version": 3
   },
   "file_extension": ".py",
   "mimetype": "text/x-python",
   "name": "python",
   "nbconvert_exporter": "python",
   "pygments_lexer": "ipython3",
   "version": "3.7.0"
  }
 },
 "nbformat": 4,
 "nbformat_minor": 2
}
